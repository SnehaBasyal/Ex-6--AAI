{
  "nbformat": 4,
  "nbformat_minor": 0,
  "metadata": {
    "colab": {
      "provenance": []
    },
    "kernelspec": {
      "name": "python3",
      "display_name": "Python 3"
    },
    "language_info": {
      "name": "python"
    }
  },
  "cells": [
    {
      "cell_type": "markdown",
      "source": [
        "Sneha Basyal M\n",
        "\n",
        "212222240101\n"
      ],
      "metadata": {
        "id": "ZPfdsOlucZVr"
      }
    },
    {
      "cell_type": "code",
      "source": [
        "!pip install nltk"
      ],
      "metadata": {
        "id": "YNPAqXna_kwv",
        "colab": {
          "base_uri": "https://localhost:8080/"
        },
        "outputId": "267be94b-1ff9-4386-de50-ad75c6e6663d"
      },
      "execution_count": 15,
      "outputs": [
        {
          "output_type": "stream",
          "name": "stdout",
          "text": [
            "Requirement already satisfied: nltk in /usr/local/lib/python3.11/dist-packages (3.9.1)\n",
            "Requirement already satisfied: click in /usr/local/lib/python3.11/dist-packages (from nltk) (8.2.0)\n",
            "Requirement already satisfied: joblib in /usr/local/lib/python3.11/dist-packages (from nltk) (1.5.0)\n",
            "Requirement already satisfied: regex>=2021.8.3 in /usr/local/lib/python3.11/dist-packages (from nltk) (2024.11.6)\n",
            "Requirement already satisfied: tqdm in /usr/local/lib/python3.11/dist-packages (from nltk) (4.67.1)\n"
          ]
        }
      ]
    },
    {
      "cell_type": "code",
      "execution_count": 16,
      "metadata": {
        "id": "gnElb6H0_Xj3",
        "colab": {
          "base_uri": "https://localhost:8080/"
        },
        "outputId": "aa4d3bde-cfe2-494c-ba63-eda582fa7a49"
      },
      "outputs": [
        {
          "output_type": "stream",
          "name": "stderr",
          "text": [
            "[nltk_data] Downloading package punkt_tab to /root/nltk_data...\n",
            "[nltk_data]   Package punkt_tab is already up-to-date!\n",
            "[nltk_data] Downloading package wordnet to /root/nltk_data...\n",
            "[nltk_data]   Package wordnet is already up-to-date!\n",
            "[nltk_data] Downloading package averaged_perceptron_tagger_eng to\n",
            "[nltk_data]     /root/nltk_data...\n",
            "[nltk_data]   Package averaged_perceptron_tagger_eng is already up-to-\n",
            "[nltk_data]       date!\n"
          ]
        },
        {
          "output_type": "execute_result",
          "data": {
            "text/plain": [
              "True"
            ]
          },
          "metadata": {},
          "execution_count": 16
        }
      ],
      "source": [
        "import nltk\n",
        "#import wordnet\n",
        "nltk.download( 'punkt_tab' )\n",
        "nltk.download('wordnet')\n",
        "from nltk.tokenize import word_tokenize\n",
        "nltk.download( 'averaged_perceptron_tagger_eng' )"
      ]
    },
    {
      "cell_type": "code",
      "source": [
        "sentence=input ()"
      ],
      "metadata": {
        "id": "iDJQ6OJFMZRn",
        "colab": {
          "base_uri": "https://localhost:8080/"
        },
        "outputId": "41cfa354-710d-4fd5-d13b-33456c979798"
      },
      "execution_count": 17,
      "outputs": [
        {
          "name": "stdout",
          "output_type": "stream",
          "text": [
            "Sneha Basyal is a Queen, ready to rule the world\n"
          ]
        }
      ]
    },
    {
      "cell_type": "code",
      "source": [
        "# Tokenize the sentence into words\n",
        "words = word_tokenize(sentence)\n",
        "# Identify the parts of speech for each word\n",
        "pos_tags= nltk.pos_tag(words)"
      ],
      "metadata": {
        "id": "A2pH010lcGlM"
      },
      "execution_count": 20,
      "outputs": []
    },
    {
      "cell_type": "code",
      "source": [
        "# Print the parts of speech\n",
        "for word, tag in pos_tags:\n",
        "    print(word, tag)"
      ],
      "metadata": {
        "colab": {
          "base_uri": "https://localhost:8080/"
        },
        "id": "wRqZaAF6ARrL",
        "outputId": "852ad4ea-31cd-44b6-fde6-bcb12f61aee7"
      },
      "execution_count": 21,
      "outputs": [
        {
          "output_type": "stream",
          "name": "stdout",
          "text": [
            "Sneha NNP\n",
            "Basyal NNP\n",
            "is VBZ\n",
            "a DT\n",
            "Queen NNP\n",
            ", ,\n",
            "ready JJ\n",
            "to TO\n",
            "rule VB\n",
            "the DT\n",
            "world NN\n"
          ]
        }
      ]
    },
    {
      "cell_type": "code",
      "source": [
        "from nltk.corpus import wordnet\n",
        "\n",
        "# Identify synonyms and antonyms for each word\n",
        "synonyms =[]\n",
        "antonyms =[]\n",
        "for word in words:\n",
        "\tfor syn in wordnet.synsets(word) :\n",
        "\t\tfor lemma in syn.lemmas():\n",
        "\t\t\tsynonyms . append (lemma . name( ) )\n",
        "\t\t\tif lemma . antonyms():\n",
        "\t\t\t\tantonyms . append ( lemma. antonyms ( ) [0] . name ( ) )\n",
        "# Print the synonyms and antonyms\n",
        "print ( \"Synonyms : \" ,set (synonyms) )\n",
        "print ( \"Antonyms : \" ,set(antonyms) )"
      ],
      "metadata": {
        "colab": {
          "base_uri": "https://localhost:8080/"
        },
        "id": "HEavtnMUAToR",
        "outputId": "c3dd37bb-556a-498d-cd4b-4ed817d26c44"
      },
      "execution_count": 22,
      "outputs": [
        {
          "output_type": "stream",
          "name": "stdout",
          "text": [
            "Synonyms :  {'govern', 'earthly_concern', 'type_A', 'decree', 'earth', 'cosmos', 'domain', 'linguistic_rule', 'world-beater', 'pansy', 'humanity', 'comprise', 'set_up', 'public', 'fag', 'existence', 'man', 'humans', 'poove', 'quick', 'pattern', 'ready', 'king', 'pouf', 'planetary', 'creation', 'normal', 'ampere', 'dominion', 'human_race', 'vitamin_A', 'rule', 'equal', 'exist', 'populace', 'global', 'worldwide', 'world', 'represent', 'gear_up', 'personify', 'worldly_concern', 'group_A', 'world-wide', 'amp', 'faggot', 'universe', 'queen_mole_rat', 'predominate', 'antiophthalmic_factor', 'prescript', 'globe', 'adenine', 'make_up', 'constitute', 'ruler', 'prevail', 'nance', 'regulation', 'deoxyadenosine_monophosphate', 'cost', 'angstrom', 'reality', 'principle', 'make', 'convention', 'humankind', 'a', 'female_monarch', 'rein', 'set', 'poof', 'harness', 'fagot', 'tabby', 'A', 'angstrom_unit', 'mankind', 'dominate', 'fairy', 'be', 'queen_regnant', 'macrocosm', 'queen', 'queer', 'prepare', 'fix', 'live', 'find', 'formula', 'Earth', 'reign', 'follow', 'human_beings', 'cook', 'embody', 'axerophthol'}\n",
            "Antonyms :  {'king', 'male_monarch', 'differ', 'unready'}\n"
          ]
        }
      ]
    },
    {
      "cell_type": "code",
      "source": [],
      "metadata": {
        "id": "8bX8Og3WAbBg"
      },
      "execution_count": null,
      "outputs": []
    }
  ]
}